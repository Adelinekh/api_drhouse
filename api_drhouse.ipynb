{
 "cells": [
  {
   "cell_type": "code",
   "execution_count": 24,
   "metadata": {},
   "outputs": [],
   "source": [
    "import requests"
   ]
  },
  {
   "cell_type": "code",
   "execution_count": 25,
   "metadata": {},
   "outputs": [],
   "source": [
    "URL=\"http://api.endlessmedical.com/v1/dx/\"\n",
    "\n",
    "getfeatures = requests.get(URL+\"GetFeatures\")\n",
    "#print(getfeatures.json())\n"
   ]
  },
  {
   "cell_type": "markdown",
   "metadata": {},
   "source": [
    "On initialise une session:"
   ]
  },
  {
   "cell_type": "code",
   "execution_count": 26,
   "metadata": {},
   "outputs": [
    {
     "data": {
      "text/plain": [
       "{'status': 'ok', 'SessionID': 'oFTe65IdfqqRTT4h'}"
      ]
     },
     "execution_count": 26,
     "metadata": {},
     "output_type": "execute_result"
    }
   ],
   "source": [
    "InitSession = requests.get(URL+\"InitSession\")\n",
    "InitSession.json()\n"
   ]
  },
  {
   "cell_type": "markdown",
   "metadata": {},
   "source": []
  },
  {
   "cell_type": "code",
   "execution_count": 29,
   "metadata": {},
   "outputs": [
    {
     "data": {
      "text/plain": [
       "{'SessionID': 'oFTe65IdfqqRTT4h',\n",
       " 'passphrase': 'I have read, understood and I accept and agree to comply with the Terms of Use of EndlessMedicalAPI and Endless Medical services. The Terms of Use are available on endlessmedical.com'}"
      ]
     },
     "execution_count": 29,
     "metadata": {},
     "output_type": "execute_result"
    }
   ],
   "source": [
    "param={\"SessionID\" : InitSession.json()['SessionID'], \"passphrase\" : \"I have read, understood and I accept and agree to comply with the Terms of Use of EndlessMedicalAPI and Endless Medical services. The Terms of Use are available on endlessmedical.com\"}\n",
    "param"
   ]
  },
  {
   "cell_type": "markdown",
   "metadata": {},
   "source": [
    "Isolation de la clé SessionID:"
   ]
  },
  {
   "cell_type": "markdown",
   "metadata": {},
   "source": [
    "On accepte les termes d'utilisation:"
   ]
  },
  {
   "cell_type": "code",
   "execution_count": 64,
   "metadata": {},
   "outputs": [
    {
     "data": {
      "text/plain": [
       "{'status': 'ok'}"
      ]
     },
     "execution_count": 64,
     "metadata": {},
     "output_type": "execute_result"
    }
   ],
   "source": [
    "\n",
    "accept = requests.post(URL+f\"AcceptTermsOfUse?SessionID={param['SessionID']}&passphrase={param['passphrase']}\")\n",
    "#accept = requests.post(URL + \"AcceptTermsOfUse/\", params=param)\n",
    "accept.json()\n"
   ]
  },
  {
   "cell_type": "code",
   "execution_count": 39,
   "metadata": {},
   "outputs": [
    {
     "data": {
      "text/plain": [
       "{'status': 'ok'}"
      ]
     },
     "execution_count": 39,
     "metadata": {},
     "output_type": "execute_result"
    }
   ],
   "source": [
    "Age = 19\n",
    "UpdateAge = requests.post(URL + f\"UpdateFeature?SessionID={param['SessionID']}&name=Age&value={Age}\")\n",
    "UpdateAge.json()"
   ]
  },
  {
   "cell_type": "code",
   "execution_count": 43,
   "metadata": {},
   "outputs": [
    {
     "data": {
      "text/plain": [
       "{'status': 'ok'}"
      ]
     },
     "execution_count": 43,
     "metadata": {},
     "output_type": "execute_result"
    }
   ],
   "source": [
    "Value_asthme = 3\n",
    "UpdateAsthma = requests.post(URL + f\"UpdateFeature?SessionID={param['SessionID']}&name=PMHXAsthma&value={Value_asthme}\")\n",
    "UpdateAsthma.json()"
   ]
  },
  {
   "cell_type": "code",
   "execution_count": 46,
   "metadata": {},
   "outputs": [
    {
     "data": {
      "text/plain": [
       "{'status': 'ok'}"
      ]
     },
     "execution_count": 46,
     "metadata": {},
     "output_type": "execute_result"
    }
   ],
   "source": [
    "Value_temperature = 104\n",
    "UpdateTemp = requests.post(URL + f\"UpdateFeature?SessionID={param['SessionID']}&name=Temp&value={Value_temperature}\")\n",
    "UpdateTemp.json()"
   ]
  },
  {
   "cell_type": "code",
   "execution_count": 47,
   "metadata": {},
   "outputs": [
    {
     "data": {
      "text/plain": [
       "{'status': 'ok'}"
      ]
     },
     "execution_count": 47,
     "metadata": {},
     "output_type": "execute_result"
    }
   ],
   "source": [
    "Value_contact = 3\n",
    "UpdateContact = requests.post(URL + f\"UpdateFeature?SessionID={param['SessionID']}&name=Contacts&value={Value_contact}\")\n",
    "UpdateContact.json()"
   ]
  },
  {
   "cell_type": "code",
   "execution_count": 48,
   "metadata": {},
   "outputs": [
    {
     "data": {
      "text/plain": [
       "{'status': 'ok'}"
      ]
     },
     "execution_count": 48,
     "metadata": {},
     "output_type": "execute_result"
    }
   ],
   "source": [
    "Value_smell = 3\n",
    "UpdateSmell = requests.post(URL + f\"UpdateFeature?SessionID={param['SessionID']}&name=LossOfSmell&value={Value_smell}\")\n",
    "UpdateSmell.json()"
   ]
  },
  {
   "cell_type": "code",
   "execution_count": 62,
   "metadata": {},
   "outputs": [
    {
     "data": {
      "text/plain": [
       "{'status': 'ok',\n",
       " 'Diseases': [{'Chronic asthma': '0.28426035261081384'},\n",
       "  {'Chronic obstructive pulmonary disease (COPD)': '0.04427960901587269'},\n",
       "  {'Septic shock': '0.04301496341390232'},\n",
       "  {\"Crohn's disease\": '0.03611755399695382'},\n",
       "  {'Ulcerative colitis': '0.031081128501297184'},\n",
       "  {'Chronic sinusitis': '0.03100216294160063'},\n",
       "  {'Influenza': '0.02909865152590485'},\n",
       "  {'Allergic rhinitis to pollen': '0.027735179266990984'},\n",
       "  {'Coronavirus disease 2019 (Covid-19) mostly upper respiratory tract infection with, or without bronchitis, but without significant pneumonia': '0.025210084033613467'},\n",
       "  {'Viral pharyngitis (etiology usually rhinovirus, coronavirus, adenovirus, parainfluenza)': '0.02324518850467583'}],\n",
       " 'VariableImportances': [{'Chronic asthma': [['PMHXAsthma', '1.0'],\n",
       "    ['FEV1toFVCRatioImprovingBy12BeforeAndAfterBronchodilator',\n",
       "     '0.8560450022808987'],\n",
       "    ['DyspneaProgressionSubjective', '0.31910117459501813'],\n",
       "    ['DyspneaSeveritySubjective', '0.25785600543377946'],\n",
       "    ['PMHXAtopicDermatitis', '0.12650403595030454'],\n",
       "    ['WheezingEpisodic', '0.10742686956195611'],\n",
       "    ['Seasonal', '0.10508635033332234'],\n",
       "    ['RR', '0.06877302590204225'],\n",
       "    ['SeverityCough', '0.06070424306230451'],\n",
       "    ['FHAtopicDermatitis', '0.051406336014977315']]},\n",
       "  {'Chronic obstructive pulmonary disease (COPD)': [['PMHXCOPD', '1.0'],\n",
       "    ['pCO2onABG', '0.9066965049828422'],\n",
       "    ['Smoker', '0.8338251916185975'],\n",
       "    ['DyspneaSeveritySubjective', '0.779999589494117'],\n",
       "    ['DyspneaProgressionSubjective', '0.44220121183803807'],\n",
       "    ['Rhonchi', '0.315495465187295'],\n",
       "    ['FEV1toFVCRatioImprovingBy12BeforeAndAfterBronchodilator',\n",
       "     '0.28266871461533943'],\n",
       "    ['Rales', '0.27637253655726707'],\n",
       "    ['Age', '0.25891158945324066'],\n",
       "    ['MucousProductionInc', '0.2218830336596328']]},\n",
       "  {'Septic shock': [['SBP', '1.0'],\n",
       "    ['Arrest', '0.3219868261349471'],\n",
       "    ['HypoTension', '0.2873428793980782'],\n",
       "    ['PCT', '0.20648986268147995'],\n",
       "    ['PlateletsLevel', '0.19652945955646145'],\n",
       "    ['CRPlevel', '0.1446078301220712'],\n",
       "    ['GeneralizedFatigue', '0.08974031792658335'],\n",
       "    ['WBClevel', '0.06727817987754692'],\n",
       "    ['PMHXID', '0.06079842739094406'],\n",
       "    ['ColdUpperLimbTips', '0.056159874406598684']]},\n",
       "  {\"Crohn's disease\": [['PMHXChrons', '1.0'],\n",
       "    ['CrohnsOnColonoscopy', '0.47406799428819785'],\n",
       "    ['StomachPainProgressionSubjective', '0.17897102804861142'],\n",
       "    ['StomachPainDuration', '0.17631548091312255'],\n",
       "    ['CrohnsOnEGD', '0.1658980512860673'],\n",
       "    ['CrohnsOnMRI', '0.11381010218144001'],\n",
       "    ['CrohnsOnCT', '0.10782409111115342'],\n",
       "    ['ESRlevel', '0.07519699396202595'],\n",
       "    ['Age', '0.07387736358268239'],\n",
       "    ['StomachPainDistributionSx', '0.05278872497693865']]},\n",
       "  {'Ulcerative colitis': [['PMHXCU', '1.0'],\n",
       "    ['UConColonoscopyPathology', '0.5239487692464342'],\n",
       "    ['StomachPainResolvesPRDXSx', '0.12715525284782944'],\n",
       "    ['StomachPainSeveritySx', '0.11476139419822796'],\n",
       "    ['StomachPainProgressionSubjective', '0.10921990455860058'],\n",
       "    ['StomachPainDistributionSx', '0.10429642954066576'],\n",
       "    ['RLLQTender', '0.08998677970287544'],\n",
       "    ['Age', '0.06831937851126343'],\n",
       "    ['LowerMidAbdTender', '0.05438728524648472'],\n",
       "    ['StomachPainDuration', '0.04884439029514762']]},\n",
       "  {'Chronic sinusitis': [['PostNasalDrainage', '1.0'],\n",
       "    ['ParanasalSinusesTargetedXrayForSinusitis', '0.47139232063574876'],\n",
       "    ['RR', '0.32237195980059336'],\n",
       "    ['SinusesTender', '0.25599445752607064'],\n",
       "    ['PMHXAsthma', '0.24931153709334317'],\n",
       "    ['PMHXAtopicDermatitis', '0.2484426045235382'],\n",
       "    ['Seasonal', '0.22958391184746707'],\n",
       "    ['Sneezing', '0.22395375457843233'],\n",
       "    ['CranialCTNonContrastForChronicSinusitis', '0.19368118274355273'],\n",
       "    ['WheezingH', '0.16579017346907296']]},\n",
       "  {'Influenza': [['PCRFlu', '1.0'],\n",
       "    ['RapidFluAntigenTesting', '0.842591387421631'],\n",
       "    ['HistoryFever', '0.5136734342835686'],\n",
       "    ['SeverityCough', '0.3986994652572543'],\n",
       "    ['LymphocyteLevel', '0.3055540054793118'],\n",
       "    ['Temp', '0.21941520593154415'],\n",
       "    ['GeneralizedFatigue', '0.16687704756881985'],\n",
       "    ['Contacts', '0.1390073878231796'],\n",
       "    ['NoseCongestion', '0.10045380359706214'],\n",
       "    ['O2Sats', '0.09714603477632792']]},\n",
       "  {'Allergic rhinitis to pollen': [['NotSoSeasonal', '1.0'],\n",
       "    ['Sneezing', '0.6638336063639466'],\n",
       "    ['RunnyNoseCongestion', '0.5680926469348113'],\n",
       "    ['DustMitesAllergyTesting', '0.4071198152238641'],\n",
       "    ['MucusFeatures', '0.40670785877104815'],\n",
       "    ['EyesItchy', '0.3002600559375005'],\n",
       "    ['PostNasalDrainage', '0.29332181941672525'],\n",
       "    ['PollenAllergyTesting', '0.2538472148589663'],\n",
       "    ['Seasonal', '0.23708347170080182'],\n",
       "    ['PMHXAtopicDermatitis', '0.13925230210237916']]},\n",
       "  {'Coronavirus disease 2019 (Covid-19) mostly upper respiratory tract infection with, or without bronchitis, but without significant pneumonia': [['PCRCovid',\n",
       "     '1.0'],\n",
       "    ['ExposureToCovid', '0.3859095999308545'],\n",
       "    ['LymphocyteLevel', '0.3298593012607193'],\n",
       "    ['CRPlevel', '0.2520007640530469'],\n",
       "    ['Temp', '0.21381355507856278'],\n",
       "    ['O2Sats', '0.2006589753083674'],\n",
       "    ['MucousProduction', '0.1989195845805969'],\n",
       "    ['PlateletsLevel', '0.18556255843156408'],\n",
       "    ['LossOfTaste', '0.14222522555165504'],\n",
       "    ['HistoryFever', '0.11947531962718032']]},\n",
       "  {'Viral pharyngitis (etiology usually rhinovirus, coronavirus, adenovirus, parainfluenza)': [['SoreThroatROS',\n",
       "     '1.0'],\n",
       "    ['PCRHIVDNA', '0.7255428968748285'],\n",
       "    ['HIVWesternBlot', '0.6769344463548699'],\n",
       "    ['AnteriorCervicalNodesExam', '0.522147948103858'],\n",
       "    ['SeverityCough', '0.48491251675538066'],\n",
       "    ['ThroatCulture', '0.4515369836424635'],\n",
       "    ['RapiStrepTest', '0.41721559275276604'],\n",
       "    ['Contacts', '0.28938530804805257'],\n",
       "    ['ThroatExam', '0.2685955255451525'],\n",
       "    ['HIV1HIV2ElisaResults', '0.2604376784444466']]}]}"
      ]
     },
     "execution_count": 62,
     "metadata": {},
     "output_type": "execute_result"
    }
   ],
   "source": [
    "fthf=requests.get(URL+f\"Analyze?SessionID={param['SessionID']}\", {\"number\":3})\n",
    "fthf.json()  "
   ]
  },
  {
   "cell_type": "code",
   "execution_count": null,
   "metadata": {},
   "outputs": [],
   "source": []
  }
 ],
 "metadata": {
  "kernelspec": {
   "display_name": "Python 3.9.5 64-bit",
   "language": "python",
   "name": "python3"
  },
  "language_info": {
   "codemirror_mode": {
    "name": "ipython",
    "version": 3
   },
   "file_extension": ".py",
   "mimetype": "text/x-python",
   "name": "python",
   "nbconvert_exporter": "python",
   "pygments_lexer": "ipython3",
   "version": "3.9.5"
  },
  "orig_nbformat": 4,
  "vscode": {
   "interpreter": {
    "hash": "f9f85f796d01129d0dd105a088854619f454435301f6ffec2fea96ecbd9be4ac"
   }
  }
 },
 "nbformat": 4,
 "nbformat_minor": 2
}
